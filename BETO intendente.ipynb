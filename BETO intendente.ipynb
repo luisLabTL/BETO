{
  "nbformat": 4,
  "nbformat_minor": 0,
  "metadata": {
    "kernelspec": {
      "display_name": "Python 3",
      "language": "python",
      "name": "python3"
    },
    "language_info": {
      "codemirror_mode": {
        "name": "ipython",
        "version": 3
      },
      "file_extension": ".py",
      "mimetype": "text/x-python",
      "name": "python",
      "nbconvert_exporter": "python",
      "pygments_lexer": "ipython3",
      "version": "3.7.3"
    },
    "colab": {
      "name": "BERT.ipynb",
      "provenance": [],
      "collapsed_sections": [],
      "toc_visible": true
    },
    "accelerator": "GPU"
  },
  "cells": [
    {
      "cell_type": "markdown",
      "metadata": {
        "id": "XtHeVGlFPY7Y"
      },
      "source": [
        "#Análisis de sentimientos hacia candidatos a la Intendencia de Montevideo usando Twitter e inteligencia artificial\n",
        "Por: Guillermo Blanco\n",
        "\n",
        "------------------------------------------------------------------------------"
      ]
    },
    {
      "cell_type": "markdown",
      "metadata": {
        "id": "pPX-j3HMXIr_"
      },
      "source": [
        "# Introducción\n",
        "\n",
        "La idea del presente documento es analizar los sentimientos expresados por diversos usuarios de Twitter uruguayos hacia los candidatos a la Intendencia de Montevideo los 10 días anteriores a la elección departamental y los 3 días posteriores a la misma. Para esto se utilizará un modelo de procesamiento del lenguaje presentado por Google en 2018 y adaptado al español por investigadores de la Universidad de Chile en 2020. Además, en este trabajo se intenta ajustar el mismo a expresiones uruguayas haciendo uso de evaluaciones de apps de la tienda Google Play. Como base para este experimento se utilizó el siguiente artículo: [Análisis de sentimientos usando BERT en español](https://benjad.github.io/2020/08/04/clasificador-sentimiento-BERT/)"
      ]
    },
    {
      "cell_type": "markdown",
      "metadata": {
        "id": "oUDikajjXMmL"
      },
      "source": [
        "# Teoría\n"
      ]
    },
    {
      "cell_type": "markdown",
      "metadata": {
        "id": "VAu_5jCRXP4Y"
      },
      "source": [
        "## Análisis de sentimientos previo al *deep learning*\n",
        "Hasta hace pocos años, los análisis de sentimientos hechos con grandes volúmenes de texto se hacían utilizando un método conocido como Bayes ingenuo o *naive Bayes* en inglés. El mismo necesitaba de un conjunto de datos extraídos del entorno donde debía ser aplicado y etiquetados según el sentimiento que representaran. A partir de esto, se generaba una lista con todas las palabras que se encontraban en los cuerpos de texto utilizados para su entrenamiento y se asociaba cada palabra con una probabilidad que la misma tuviera un sentimiento positivo o negativo. Si se deseaba saber el sentimiento de una frase, se obtenía una especie de promedio de las probabilidades de las palabras. ¿Cuál era el problema? Que muchas veces el contexto en que se encuentra una palabra termina generando su significado. Por ejemplo, `no felíz` podría generar un sentimiento positivo dado que `felíz` es más `positivo` que `no` pero, si leemos atentamente, entenderemos que `no felíz` está mucho más cerca de `infelíz` que del resultado que estaríamos obteniendo con el clasificador de Bayes. Lo mismo puede pensarse con palabras que adquieren significado según el contexto: no es lo mismo un `banco` de plaza que un banco de sangre o dinero."
      ]
    },
    {
      "cell_type": "markdown",
      "metadata": {
        "id": "pkefwYrdXWbI"
      },
      "source": [
        "## Actualidad\n",
        "\n",
        "En los últimos 10 años se han producido múltiples avances en el área del procesamiento del lenguaje, avances que han venido de la mano con la masificación de las redes neuronales artificiales aplicadas a los datos, técnica que aparenta desafiar a métodos como el recién nombrado. El avance que proporcionan estas redes es que son capaces de resolver problemas igual o más complejos que los abordables por los métodos estadísticos previos pero teniendo datos mucho menos *pulidos*. A cambio, mayor es la necesidad de poder de cálculo de las computadoras encargadas del entrenamiento de estos modelos.\n",
        "\n",
        "Una característica distintiva de las redes neuronales artificiales es que se organizan en capas de parámetros que se van adaptando a los datos hasta arrojar predicciones que sean certeras en la mayoría de los casos. Si bien aún no se conoce perfectamente qué ocurre dentro de cada capa de la red neuronal, algunas investaciones encuentran que, a medida que se avanza entre las capas, los resultados obtenidos se van perfeccionando progresivamente. De esta forma, las últimas capas de una red neuronal le aportan a la misma la información más minuciosa que tiene que tener para alcanzar una cierta perfección.\n",
        "\n",
        "Lo anterior permite algo interesante: pensemos en un modelo de redes neuronales capaz de obtener el significado de las palabras. Si bien en toda hispanoamérica se habla español, algunos significados fluctúan: no es lo mismo una zapatilla en Uruguay que en Argentina, por ejemplo. De acuerdo a la conclusión alcanzada en el párrafo anterior, estas precisiones se encontrarían en las últimas capas de la red neuronal. Ante esto, si deseáramos una inteligencia artificial capaz de entender el español adaptado al Uruguay tenemos dos posibilidades: entrenarla completamente con textos escritos por uruguayos o tomar un modelo entrenado con algún dialecto del español, cortarle la o las últimas capas y sustituirla por una que tenga textos uruguayos. Esto sería mucho más barato de implementar, dado que los parámetros de las capas no alteradas no necesitan calcularse nuevamente y solo se alteran las últimas. Además, los modelos de *deep learning* requieren grandes volúmenes de datos para entrenar sus múltiples capas: acá no es necesario porque solo entrenamos una. Esta opción es lo que se conoce como transferencia de aprendizaje o *transfer learning* e implica tomar un modelo general preentrenado y adaptarlo a la contexto deseado."
      ]
    },
    {
      "cell_type": "markdown",
      "metadata": {
        "id": "Q8vl6x60XaI7"
      },
      "source": [
        "### BERT y BETO\n",
        "\n",
        "En 2018 Google presentó y liberó un modelo de aprendizaje profundo encargado de procesar lenguaje humano conocido como BERT. BERT es un modelo de lenguaje general capaz de entender la forma en que se expresan los seres humanos y que después es adaptado a tareas particulares tales como reconocimiento de voz, autocompletado de texto, clasificación de textos, chatbots, aplicación de respuesta a preguntas, entre otras que puedan nutrir los resultados del buscador nombrado. \n",
        "\n",
        "En su interior conviven diversas tecnologías capaces de computar valores que le permiten entender el significado de las palabras a partir de un gran volúmen de textos utilizados para su entrenamiento pero considerando el entorno en que son pronunciadas, algo que métodos como el clasificador de Bayes no era capaz. A diferencia de modelos de redes neuronales previos, no se define el contexto de una forma fija sino que este es *adivinado* en el momento de su entrenamiento.\n",
        "\n",
        "Para el objetivo planteado aquí, BERT presenta una desventaja: solo sabe inglés. Tomando como punto de partido el *paper* que acompañó la presentación del mismo, investigadores de la Universidad de Chile se propusieron entrenar su BERT pero solamente con textos en español. Los resultados fueron presentados sobre finales de 2019 y principios de 2020: nacía BETO."
      ]
    },
    {
      "cell_type": "markdown",
      "metadata": {
        "id": "JnnzAzYUXcii"
      },
      "source": [
        "# Datos y entrenamiento\n",
        "\n",
        "Para poder analizar sentimientos vertidos hacia los candidatos a Intendente de Montevideo en los diez días antes de las elecciones, se toma a BETO preentrenado y se lo adapta para entender mejor expresiones propias de los uruguayos. Para eso se tomó una lista de aplicaciones de Android muy utilizadas en Uruguay[1] y se extrajo el texto de las reviews y la valoración en escala 5 que realizaron múltiples usuarios. Dicha extracción fue hecha por medio de *scrapping* utilizando [Selenium](https://www.selenium.dev/).\n",
        "\n",
        "Pese a la escala original de los datos, se probó un modelo de 5 categorías y los resultados no fueron aceptables. Por eso, se optó por sintetizarlas en 3 categorías, pasando a ser:\n",
        "* 1 y 2 estrellas: **malo** (clase identificada con el número 0)\n",
        "* 3 estrellas: **neutro** (clase identificada con el número 1)\n",
        "* 4 y 5 estrellas: **bueno** (clase identificada con el número 2)\n",
        "\n",
        "Con la adaptación de esa última capa, se entrena el modelo y luego se lo utiliza para clasificar un conjunto de twits sobre 3 de los 4 candidatos de la elección antes nombrada. Los mismos fueron recolectados en vivo haciendo uso de la herramienta [twitter sniffer](https://github.com/guibla236/twitter-sniffer), también elaborada para este experimento. Al final, se presenta un gráfico que muestra la evolución diaria del promedio de la popularidad expresada en los twits.\n",
        "\n",
        "Valen algunas precisiones sobre este conjunto de datos: solo fue posible extraer aquellos que informaban sobre la ubicación geográfica desde la cual fueron emitidos, habiéndose utilizado para la recolección a todo el Uruguay. Una mejor recolección de los datos tendría que visitar distintos twits buscando comentarios respecto de alguna personalidad. Sin embargo, lo aleatorio de la selección puede aportar algún indicador interesante. \n",
        "\n",
        "Otra precisión que debe hacerse sobre los datos es que se eliminó al candidato Daniel Martínez por una simple razón: muchas veces se lo nombra solo por el nombre o solo por el apellido y Daniel y Martínez hay muchos. Por esto se optó por eliminarlo y mantener apellidos menos comunes como los de los otros tres candidatos."
      ]
    },
    {
      "cell_type": "markdown",
      "metadata": {
        "id": "d2h2LGSOa5tk"
      },
      "source": [
        "# Implementación\n",
        "\n",
        "Habiendo hecho las aclaraciones metodológicas pertinentes, se procede a la implementación. Nótese que los datos cargados se encuentran en la carpeta donde fue extraído este *notebook*, por lo que si se desea ejecutarlo nuevamente de forma local o en herramientas como Google Colab, habrá que cargar los datos de forma manual."
      ]
    },
    {
      "cell_type": "markdown",
      "metadata": {
        "id": "OSBw6SZEPY7j"
      },
      "source": [
        "### Instalación de la biblioteca para que descarga y gestiona modelos preentrenados"
      ]
    },
    {
      "cell_type": "code",
      "metadata": {
        "colab": {
          "base_uri": "https://localhost:8080/"
        },
        "id": "H5u7HouB5KAH",
        "outputId": "5998258a-74d4-40aa-cd58-82d9bca84f6e"
      },
      "source": [
        "!pip install transformers # Permite trabajar con modelos preentrenados de https://huggingface.co/"
      ],
      "execution_count": 1,
      "outputs": [
        {
          "output_type": "stream",
          "text": [
            "Requirement already satisfied: transformers in /usr/local/lib/python3.7/dist-packages (4.4.2)\n",
            "Requirement already satisfied: requests in /usr/local/lib/python3.7/dist-packages (from transformers) (2.23.0)\n",
            "Requirement already satisfied: filelock in /usr/local/lib/python3.7/dist-packages (from transformers) (3.0.12)\n",
            "Requirement already satisfied: regex!=2019.12.17 in /usr/local/lib/python3.7/dist-packages (from transformers) (2019.12.20)\n",
            "Requirement already satisfied: numpy>=1.17 in /usr/local/lib/python3.7/dist-packages (from transformers) (1.19.5)\n",
            "Requirement already satisfied: tqdm>=4.27 in /usr/local/lib/python3.7/dist-packages (from transformers) (4.41.1)\n",
            "Requirement already satisfied: sacremoses in /usr/local/lib/python3.7/dist-packages (from transformers) (0.0.43)\n",
            "Requirement already satisfied: packaging in /usr/local/lib/python3.7/dist-packages (from transformers) (20.9)\n",
            "Requirement already satisfied: importlib-metadata; python_version < \"3.8\" in /usr/local/lib/python3.7/dist-packages (from transformers) (3.7.2)\n",
            "Requirement already satisfied: tokenizers<0.11,>=0.10.1 in /usr/local/lib/python3.7/dist-packages (from transformers) (0.10.1)\n",
            "Requirement already satisfied: urllib3!=1.25.0,!=1.25.1,<1.26,>=1.21.1 in /usr/local/lib/python3.7/dist-packages (from requests->transformers) (1.24.3)\n",
            "Requirement already satisfied: certifi>=2017.4.17 in /usr/local/lib/python3.7/dist-packages (from requests->transformers) (2020.12.5)\n",
            "Requirement already satisfied: idna<3,>=2.5 in /usr/local/lib/python3.7/dist-packages (from requests->transformers) (2.10)\n",
            "Requirement already satisfied: chardet<4,>=3.0.2 in /usr/local/lib/python3.7/dist-packages (from requests->transformers) (3.0.4)\n",
            "Requirement already satisfied: six in /usr/local/lib/python3.7/dist-packages (from sacremoses->transformers) (1.15.0)\n",
            "Requirement already satisfied: click in /usr/local/lib/python3.7/dist-packages (from sacremoses->transformers) (7.1.2)\n",
            "Requirement already satisfied: joblib in /usr/local/lib/python3.7/dist-packages (from sacremoses->transformers) (1.0.1)\n",
            "Requirement already satisfied: pyparsing>=2.0.2 in /usr/local/lib/python3.7/dist-packages (from packaging->transformers) (2.4.7)\n",
            "Requirement already satisfied: zipp>=0.5 in /usr/local/lib/python3.7/dist-packages (from importlib-metadata; python_version < \"3.8\"->transformers) (3.4.1)\n",
            "Requirement already satisfied: typing-extensions>=3.6.4; python_version < \"3.8\" in /usr/local/lib/python3.7/dist-packages (from importlib-metadata; python_version < \"3.8\"->transformers) (3.7.4.3)\n"
          ],
          "name": "stdout"
        }
      ]
    },
    {
      "cell_type": "markdown",
      "metadata": {
        "id": "bstJaTW7bkVI"
      },
      "source": [
        "### Importamos todas las bibliotecas y funciones que utilizaremos"
      ]
    },
    {
      "cell_type": "code",
      "metadata": {
        "id": "_YZaDj3XPY79"
      },
      "source": [
        "import re\n",
        "import torch\n",
        "import os\n",
        "import torch.optim\n",
        "import time\n",
        "import datetime\n",
        "import random\n",
        "import seaborn as sns\n",
        "import pandas as pd\n",
        "import numpy as np\n",
        "import matplotlib.pyplot as plt\n",
        "from sklearn.model_selection import train_test_split\n",
        "from transformers import  BertTokenizer\n",
        "from transformers import BertForSequenceClassification, AdamW\n",
        "from transformers import get_linear_schedule_with_warmup\n",
        "from torch.utils.data import TensorDataset\n",
        "from torch.utils.data import DataLoader, SequentialSampler\n",
        "from sklearn.metrics import confusion_matrix"
      ],
      "execution_count": 2,
      "outputs": []
    },
    {
      "cell_type": "markdown",
      "metadata": {
        "id": "Kfv-X7UtcIS6"
      },
      "source": [
        "### Seleccionamos el dispositivo donde se va a entrenar el modelo.\n",
        "Opciones: \n",
        "* CPU\n",
        "* GPU (CUDA)"
      ]
    },
    {
      "cell_type": "code",
      "metadata": {
        "id": "MWmfcRibcSEa"
      },
      "source": [
        "run_on = 'cuda'\n",
        "device = torch.device(run_on)"
      ],
      "execution_count": 3,
      "outputs": []
    },
    {
      "cell_type": "markdown",
      "metadata": {
        "id": "9yQwYzSucWXF"
      },
      "source": [
        "### Marcamos el directorio donde se buscarán los archivos y cargamos las reviews de Google Play"
      ]
    },
    {
      "cell_type": "code",
      "metadata": {
        "colab": {
          "base_uri": "https://localhost:8080/",
          "height": 204
        },
        "id": "tIbVTla-u0Gm",
        "outputId": "efc352ec-dfb1-471a-cabb-1db3555ebac6"
      },
      "source": [
        "PATH = os.getcwd()\n",
        "df = pd.read_csv(PATH+'/reviewsclean.csv')\n",
        "df.head(5)"
      ],
      "execution_count": 4,
      "outputs": [
        {
          "output_type": "execute_result",
          "data": {
            "text/html": [
              "<div>\n",
              "<style scoped>\n",
              "    .dataframe tbody tr th:only-of-type {\n",
              "        vertical-align: middle;\n",
              "    }\n",
              "\n",
              "    .dataframe tbody tr th {\n",
              "        vertical-align: top;\n",
              "    }\n",
              "\n",
              "    .dataframe thead th {\n",
              "        text-align: right;\n",
              "    }\n",
              "</style>\n",
              "<table border=\"1\" class=\"dataframe\">\n",
              "  <thead>\n",
              "    <tr style=\"text-align: right;\">\n",
              "      <th></th>\n",
              "      <th>Unnamed: 0</th>\n",
              "      <th>clean_reviews</th>\n",
              "      <th>class</th>\n",
              "      <th>stars</th>\n",
              "    </tr>\n",
              "  </thead>\n",
              "  <tbody>\n",
              "    <tr>\n",
              "      <th>0</th>\n",
              "      <td>0</td>\n",
              "      <td>Muy útil, solo que no puedo utilizarlo en mi n...</td>\n",
              "      <td>0</td>\n",
              "      <td>1</td>\n",
              "    </tr>\n",
              "    <tr>\n",
              "      <th>1</th>\n",
              "      <td>1</td>\n",
              "      <td>Muy buena. Solo una sugerencia: Si pueden agre...</td>\n",
              "      <td>2</td>\n",
              "      <td>5</td>\n",
              "    </tr>\n",
              "    <tr>\n",
              "      <th>2</th>\n",
              "      <td>2</td>\n",
              "      <td>faltan agregar las nuevas paradas del borro y ...</td>\n",
              "      <td>2</td>\n",
              "      <td>4</td>\n",
              "    </tr>\n",
              "    <tr>\n",
              "      <th>3</th>\n",
              "      <td>3</td>\n",
              "      <td>Sería bueno que se pueda agregar una sección d...</td>\n",
              "      <td>1</td>\n",
              "      <td>3</td>\n",
              "    </tr>\n",
              "    <tr>\n",
              "      <th>4</th>\n",
              "      <td>4</td>\n",
              "      <td>Que pasa que el 328 no aparece en la App y cua...</td>\n",
              "      <td>0</td>\n",
              "      <td>1</td>\n",
              "    </tr>\n",
              "  </tbody>\n",
              "</table>\n",
              "</div>"
            ],
            "text/plain": [
              "   Unnamed: 0                                      clean_reviews  class  stars\n",
              "0           0  Muy útil, solo que no puedo utilizarlo en mi n...      0      1\n",
              "1           1  Muy buena. Solo una sugerencia: Si pueden agre...      2      5\n",
              "2           2  faltan agregar las nuevas paradas del borro y ...      2      4\n",
              "3           3  Sería bueno que se pueda agregar una sección d...      1      3\n",
              "4           4  Que pasa que el 328 no aparece en la App y cua...      0      1"
            ]
          },
          "metadata": {
            "tags": []
          },
          "execution_count": 4
        }
      ]
    },
    {
      "cell_type": "markdown",
      "metadata": {
        "id": "hn3CrKswPY8C"
      },
      "source": [
        "## Distribución de los datos\n",
        "\n",
        "En el siguiente gráfico se puede observar que predominan las valoraciones extremas.\n",
        "\n",
        "Si se cambia *class* por *stars* en el código se puede ver que esto ocurre tanto para la valoración con estrellas como en la abstracción hecha, recordemos:\n",
        "* Calificaciones 1 y 2: $0$ (*Malo*)\n",
        "* Calificación 3: $1$ (*Neutro*)\n",
        "* Calificación 4 y 5: $2$ (*Bueno*)"
      ]
    },
    {
      "cell_type": "code",
      "metadata": {
        "colab": {
          "base_uri": "https://localhost:8080/",
          "height": 282
        },
        "id": "vJuDpvK93-Ed",
        "outputId": "2dcf57f6-f0c8-4f5d-cbc6-7713df205733"
      },
      "source": [
        "# Hacemos un gráfico para ver la distribución de calificaciones\n",
        "counts = df['class'].value_counts()\n",
        "ax = sns.barplot(x=df['class'].unique(), y=counts)\n",
        "ax.plot()"
      ],
      "execution_count": 5,
      "outputs": [
        {
          "output_type": "execute_result",
          "data": {
            "text/plain": [
              "[]"
            ]
          },
          "metadata": {
            "tags": []
          },
          "execution_count": 5
        },
        {
          "output_type": "display_data",
          "data": {
            "image/png": "[encoded data removed]",
            "text/plain": [
              "<Figure size 432x288 with 1 Axes>"
            ]
          },
          "metadata": {
            "tags": [],
            "needs_background": "light"
          }
        }
      ]
    },
    {
      "cell_type": "markdown",
      "metadata": {
        "id": "u1cbRO9nfhUp"
      },
      "source": [
        "###Ahora extraemos los datos del *dataframe* y los dividimos en conjuntos de entrenamiento y pruebas."
      ]
    },
    {
      "cell_type": "code",
      "metadata": {
        "colab": {
          "base_uri": "https://localhost:8080/"
        },
        "id": "TBbs7ejlPY8K",
        "outputId": "a1990c41-7123-4596-85ba-652ad55f3aa2"
      },
      "source": [
        "# Extraemos las columnas necesarios del conjunto de datos\n",
        "reviews = df['clean_reviews']\n",
        "sentiment = df['class']\n",
        "\n",
        "# Dividimos el dataset entre datos de entrenamiento y validación\n",
        "X_train, X_val, y_train, y_val = train_test_split(reviews, \n",
        "                                                  sentiment,\n",
        "                                                  stratify=sentiment, # Mantenemos las proporciones de las clases de sentimientos.\n",
        "                                                  test_size=0.2, # Proporción del dataset que se destina a validación\n",
        "                                                  random_state=42)\n",
        "\n",
        "# Mostramos al usuario el tamaño de cada conjunto\n",
        "print('Muestras del conjunto de entrenamiento : {}'.format(len(X_train)))\n",
        "print('Muestras del conjunto de validación : {}'.format(len(X_val)))"
      ],
      "execution_count": 6,
      "outputs": [
        {
          "output_type": "stream",
          "text": [
            "Muestras del conjunto de entrenamiento : 5838\n",
            "Muestras del conjunto de validación : 1460\n"
          ],
          "name": "stdout"
        }
      ]
    },
    {
      "cell_type": "markdown",
      "metadata": {
        "id": "yjxzchnTfs_N"
      },
      "source": [
        "###El siguiente paso es la tokenización\n",
        "Este proceso consiste en transformar las palabras de los distintos *reviews* en características (números) que representen un significado para BETO.\n",
        "\n",
        "Para eso, tenemos que descargar el tokenizador del modelo preentrenado."
      ]
    },
    {
      "cell_type": "code",
      "metadata": {
        "colab": {
          "base_uri": "https://localhost:8080/"
        },
        "id": "iQ_G9mUIPDeh",
        "outputId": "27feb4a3-5038-47a5-a668-b092c0131832"
      },
      "source": [
        "# Tokenizacion (transformación de las palabras en características del modelo BETO)\n",
        "\n",
        "tokenizer = BertTokenizer.from_pretrained(\"dccuchile/bert-base-spanish-wwm-uncased\",\n",
        "                                          do_lower_case=True)\n",
        "\n",
        "def preprocessing(dataset):\n",
        "    input_ids = []\n",
        "    attention_mask = []\n",
        "\n",
        "    for doc in dataset:\n",
        "      encoded_doc = tokenizer.encode_plus(doc,\n",
        "                                          add_special_tokens=True,\n",
        "                                          max_length=128,\n",
        "                                          truncation=True,\n",
        "                                          padding=\"max_length\")\n",
        "        \n",
        "      input_ids.append(encoded_doc['input_ids'])\n",
        "      attention_mask.append(encoded_doc['attention_mask'])\n",
        "\n",
        "    return (torch.tensor(input_ids), torch.tensor(attention_mask))\n",
        "\n",
        "# Aplicamos el preprocesamiento al dataset\n",
        "X_train_inputs, X_train_masks = preprocessing(X_train)\n",
        "X_val_inputs, X_val_masks = preprocessing(X_val)\n",
        "\n",
        "# Mostramos la cantidad máxima de palabras en cada juicio.\n",
        "max_len = max([torch.sum(sen) for sen in X_train_masks])\n",
        "print('Cantidad máxima de tokens (palabras) en una oración {0}'.format(max_len))"
      ],
      "execution_count": 7,
      "outputs": [
        {
          "output_type": "stream",
          "text": [
            "Cantidad máxima de tokens (palabras) en una oración 128\n"
          ],
          "name": "stdout"
        }
      ]
    },
    {
      "cell_type": "markdown",
      "metadata": {
        "id": "oCfwQvEBPY8O"
      },
      "source": [
        "Para optimizar el proceso de aprendizaje se dividen los conjuntos de datos en pequeños subconjuntos (*batches*) de 32 muestras. Esto permite que la actualización de los parámetros de los modelos sea más precisa, lo que también sirve para atacar el problema del *overfitting*."
      ]
    },
    {
      "cell_type": "code",
      "metadata": {
        "id": "1PC6_Dc8PY8W"
      },
      "source": [
        "# Data loaders\n",
        "batch_size = 32"
      ],
      "execution_count": 8,
      "outputs": []
    },
    {
      "cell_type": "markdown",
      "metadata": {
        "id": "PItaMugZiVru"
      },
      "source": [
        "A continuación se adaptan los datos para que sean debidamente tratados por PyTorch (la biblioteca encargada del entrenamiento del modelo)."
      ]
    },
    {
      "cell_type": "code",
      "metadata": {
        "id": "dPiEcbn1iT5g"
      },
      "source": [
        "y_train_labels = torch.tensor(y_train.values)\n",
        "y_val_labels = torch.tensor(y_val.values)\n",
        "\n",
        "def dataloader(x_inputs, x_masks, y_labels):\n",
        "    data = TensorDataset(x_inputs, x_masks, y_labels)\n",
        "    sampler = SequentialSampler(data)\n",
        "    dataloader = DataLoader(data, sampler=sampler,\n",
        "                 batch_size=batch_size,\n",
        "                 num_workers=0)\n",
        "    return dataloader\n",
        "\n",
        "train_dataloader = dataloader(X_train_inputs, X_train_masks,\n",
        "                   y_train_labels)\n",
        "val_dataloader = dataloader(X_val_inputs, X_val_masks, \n",
        "                 y_val_labels)"
      ],
      "execution_count": 9,
      "outputs": []
    },
    {
      "cell_type": "markdown",
      "metadata": {
        "id": "7cJHIgIpPY8X"
      },
      "source": [
        "Marcamos una semilla para asegurar que los resultados sean reproducibles cuando se intente ejecutar nuevamente el presente *notebook*."
      ]
    },
    {
      "cell_type": "code",
      "metadata": {
        "id": "ucyAVWNSPY8c"
      },
      "source": [
        "# set random seed\n",
        "def set_seed(value):\n",
        "    random.seed(value)\n",
        "    np.random.seed(value)\n",
        "    torch.manual_seed(value)\n",
        "    torch.cuda.manual_seed_all(value)\n",
        "set_seed(42)"
      ],
      "execution_count": 10,
      "outputs": []
    },
    {
      "cell_type": "markdown",
      "metadata": {
        "id": "qFGQpxQPit72"
      },
      "source": [
        "Creamos el modelo a partir del preentrenado y el objeto que contiene la función de optimización con los parámetros para su entrenamiento."
      ]
    },
    {
      "cell_type": "code",
      "metadata": {
        "colab": {
          "base_uri": "https://localhost:8080/"
        },
        "id": "qyj-fdrjis6g",
        "outputId": "67211221-64ec-4692-a195-8b976b7c030a"
      },
      "source": [
        "# Create model and optimizer\n",
        "model = BertForSequenceClassification.from_pretrained(\n",
        "        \"dccuchile/bert-base-spanish-wwm-uncased\",\n",
        "         num_labels=3,\n",
        "         output_attentions=False,\n",
        "         output_hidden_states=False)\n",
        "\n",
        "optimizer = AdamW(model.parameters(),\n",
        "                  lr = 4e-5,\n",
        "                  eps = 1e-6\n",
        "                  )"
      ],
      "execution_count": 11,
      "outputs": [
        {
          "output_type": "stream",
          "text": [
            "Some weights of the model checkpoint at dccuchile/bert-base-spanish-wwm-uncased were not used when initializing BertForSequenceClassification: ['cls.predictions.bias', 'cls.predictions.transform.dense.weight', 'cls.predictions.transform.dense.bias', 'cls.predictions.transform.LayerNorm.weight', 'cls.predictions.transform.LayerNorm.bias', 'cls.predictions.decoder.weight']\n",
            "- This IS expected if you are initializing BertForSequenceClassification from the checkpoint of a model trained on another task or with another architecture (e.g. initializing a BertForSequenceClassification model from a BertForPreTraining model).\n",
            "- This IS NOT expected if you are initializing BertForSequenceClassification from the checkpoint of a model that you expect to be exactly identical (initializing a BertForSequenceClassification model from a BertForSequenceClassification model).\n",
            "Some weights of BertForSequenceClassification were not initialized from the model checkpoint at dccuchile/bert-base-spanish-wwm-uncased and are newly initialized: ['classifier.weight', 'classifier.bias']\n",
            "You should probably TRAIN this model on a down-stream task to be able to use it for predictions and inference.\n"
          ],
          "name": "stderr"
        }
      ]
    },
    {
      "cell_type": "markdown",
      "metadata": {
        "id": "Wi1cmazzi6hJ"
      },
      "source": [
        "Indicamos que queremos que se entrene en la GPU, que se haga en 3 *épocas* (pasadas consecutivas de todos los *batches*) y creamos el *scheduler*: un objeto encargado de reducir la tasa de aprendizaje a medida que se va entrenando el modelo, algo que también ataca el *overfitting*."
      ]
    },
    {
      "cell_type": "code",
      "metadata": {
        "id": "5NTvvXybi62I"
      },
      "source": [
        "if run_on == 'cuda':\n",
        "    model.cuda()\n",
        "\n",
        "# Define number of epochs\n",
        "epochs = 3\n",
        "\n",
        "total_steps = len(train_dataloader) * epochs\n",
        "\n",
        "# Create the learning rate scheduler.\n",
        "scheduler = get_linear_schedule_with_warmup(optimizer,\n",
        "            num_warmup_steps = 0, \n",
        "            num_training_steps = total_steps)"
      ],
      "execution_count": 12,
      "outputs": []
    },
    {
      "cell_type": "markdown",
      "metadata": {
        "id": "oVM1Z2AXPY8f"
      },
      "source": [
        "Definimos funciones accesorias encargadas de medir formatear la demora de cada época del entrenamiento y de computar la exactitud de los parámetros del modelo al intentar predecir los sentimientos del conjunto de validación."
      ]
    },
    {
      "cell_type": "code",
      "metadata": {
        "id": "dGk_XaosPY8g"
      },
      "source": [
        "#fuction to format time\n",
        "def format_time(elapsed):\n",
        "    elapsed_rounded = int(round((elapsed)))\n",
        "    return str(datetime.timedelta(seconds=elapsed_rounded))\n",
        "\n",
        "#function to compute accuracy\n",
        "def flat_accuracy(preds, labels):\n",
        "    pred_flat = np.argmax(preds, axis=1).flatten()\n",
        "    labels_flat = labels.flatten()\n",
        "    return np.sum(pred_flat == labels_flat) / len(labels_flat)\n",
        "\n",
        "#variable to plot the confusion matrix\n",
        "conf = []"
      ],
      "execution_count": 13,
      "outputs": []
    },
    {
      "cell_type": "markdown",
      "metadata": {
        "id": "WYKpnALNPY8g"
      },
      "source": [
        "Por último, definimos la función de entrenamiento, función que también se encargará de la validación de cada época."
      ]
    },
    {
      "cell_type": "code",
      "metadata": {
        "id": "3HiIrtZrPY8h"
      },
      "source": [
        "def entrenar(n_epochs, training_dataloader,\n",
        "             validation_dataloader):\n",
        "    # ========================================\n",
        "    #               Entrenamiento \n",
        "    # ========================================\n",
        "    print('======= Entrenando =======')\n",
        "\n",
        "    max_step_t = len(training_dataloader)\n",
        "    max_step_v = len(validation_dataloader)\n",
        "\n",
        "    for epoch_i in range(0,n_epochs):\n",
        "        # Para cada época...\n",
        "        print(\"\")\n",
        "        print('======= Epoch {:} / {:} ======='.format(\n",
        "             epoch_i + 1, epochs))\n",
        "        # Marcamos la hora de inicio para ver cuánto demoramos.\n",
        "        t0 = time.time()\n",
        "        # Reseteamos el valor de la pérdida para la época a utilizar.\n",
        "        total_loss = 0\n",
        "        # Ponemos el modelo en modo entrenamiento.\n",
        "        model.train()\n",
        "        # Para cada subconjunto (minibatch) del conjunto de entrenamiento:\n",
        "        \n",
        "        for step, batch in enumerate(training_dataloader):\n",
        "            batch_loss = 0\n",
        "            # Desarmamos el dataloader en:\n",
        "            #   [0]: input ids (índices en el diccionario de tokens de BETO),\n",
        "            #   [1]: attention masks (cuánta atención se le presta a cada token en la oración), \n",
        "            #   [2]: labels (el resultado que se debería obtener: el dato y)\n",
        "            b_input_ids,b_input_mask, b_labels = tuple(\n",
        "                                t.to(device) for t in batch)\n",
        "\n",
        "            # Limpiamos los gradientes para el presente batch\n",
        "            model.zero_grad()\n",
        "\n",
        "            # Propagación hacia adelante en las capas\n",
        "            outputs = model(b_input_ids,\n",
        "                            token_type_ids=None,\n",
        "                            attention_mask=b_input_mask,\n",
        "                            labels=b_labels)\n",
        "\n",
        "            # Sacamos la pérdida del presente minibatch y lo cargamos en...\n",
        "            loss = outputs[0]\n",
        "            batch_loss += loss.item()\n",
        "            total_loss += loss.item()\n",
        "\n",
        "            # Propagamos hacia atrás\n",
        "            loss.backward()\n",
        "\n",
        "            # Cortamos la norma de los gradientes en 1.0 (evita que el gradiente se haga explosivo)\n",
        "            torch.nn.utils.clip_grad_norm_(model.parameters(),\n",
        "                                            1.0)\n",
        "\n",
        "            # Actualizamos los parámetros\n",
        "            optimizer.step()\n",
        "            scheduler.step()\n",
        "            if step %50 == 0 or step==max_step_t:\n",
        "              print('Nº Batch: {0}/{1} | batch loss: {2} | avg loss: {3}'.format(step,\n",
        "                                                                                max_step_t,\n",
        "                                                                                batch_loss,\n",
        "                                                                                total_loss/(step+1)))\n",
        "        # Calculamos la pérdida promedio en la época actual del conjunto de entrenamiento\n",
        "        avg_train_loss = total_loss / len(train_dataloader)\n",
        "\n",
        "\n",
        "        print(\"\")\n",
        "        print(\"  Average training loss: {0:.2f}\".\n",
        "             format(avg_train_loss))\n",
        "        print(\"  Training epoch took: {:}\".format(\n",
        "              format_time(time.time() - t0)))\n",
        "\n",
        "        # ========================================\n",
        "        #               Validación\n",
        "        # ========================================\n",
        "        # Después de entrenar una época, medimos su capacidad de predecir y acertar.\n",
        "\n",
        "        print(\"\")\n",
        "        print(\"======= Validación =======\")\n",
        "\n",
        "        t0 = time.time()\n",
        "\n",
        "        # Ponemos el modelo en modo validación\n",
        "        model.eval()\n",
        "\n",
        "        # Declaramos variables\n",
        "        eval_loss, eval_accuracy = 0, 0\n",
        "        all_logits = []\n",
        "        all_labels = []\n",
        "\n",
        "        # Evaluamos los datos por minibatches\n",
        "        for step, batch in enumerate(validation_dataloader):\n",
        "            \n",
        "            # Repetimos el proceso de dividir los datos del dataloader\n",
        "            # y cargarlos en el dispositivo que hará la validación.\n",
        "            #   [0]: input ids, \n",
        "            #   [1]: attention masks,\n",
        "            #   [2]: labels\n",
        "\n",
        "            b_input_ids, b_input_mask, b_labels = tuple(\n",
        "                                t.to(device) for t in batch)\n",
        "\n",
        "\n",
        "            # No queremos que el modelo compute gradientes\n",
        "            with torch.no_grad():\n",
        "                # Generamos las predicciones del modelo\n",
        "                outputs = model(b_input_ids,\n",
        "                                token_type_ids=None,\n",
        "                                attention_mask=b_input_mask)\n",
        "\n",
        "            # ...las extraemos\n",
        "            logits = outputs[0]\n",
        "\n",
        "            # Movemos los logits (datos previos a función de activación) a la CPU\n",
        "            logits = logits.detach().cpu().numpy()\n",
        "            b_labels = b_labels.to('cpu').numpy()\n",
        "\n",
        "            # Guardamos los logits y las etiquetas con las clasificaciones hechas\n",
        "            # Nos serán útiles para la matriz de confusión.\n",
        "            predict_labels = np.argmax(\n",
        "                             logits, axis=1).flatten()\n",
        "            all_logits.extend(predict_labels.tolist())\n",
        "            all_labels.extend(b_labels.tolist())\n",
        "\n",
        "            # Calculamos la exactitud de este batch\n",
        "            tmp_eval_accuracy = flat_accuracy(\n",
        "                                logits, b_labels)\n",
        "            # Calculamos la exactitud acumulada hasta la época actual.\n",
        "            eval_accuracy += tmp_eval_accuracy\n",
        "\n",
        "        # Mostramos la exactitud final para esta epoch\n",
        "        print(\"  Accuracy: {0:.2f}\".\n",
        "              format(eval_accuracy / (step+1)))\n",
        "        print(\"  Validation took: {:}\".format(\n",
        "             format_time(time.time() - t0)))\n",
        "\n",
        "    # Mostramos la matriz de confusión\n",
        "    conf = confusion_matrix(\n",
        "           all_labels, all_logits, normalize='true')\n",
        "    print(\"\")\n",
        "    print(\"Training complete\")\n",
        "    return conf"
      ],
      "execution_count": 14,
      "outputs": []
    },
    {
      "cell_type": "markdown",
      "metadata": {
        "id": "QQADKQPNtv-J"
      },
      "source": [
        "### Ahora, simplemente, le decimos al modelo que se entrene\n",
        "...y nos dé la matriz de confusión"
      ]
    },
    {
      "cell_type": "code",
      "metadata": {
        "colab": {
          "base_uri": "https://localhost:8080/"
        },
        "id": "XGAp53NuogYK",
        "outputId": "8dad175d-4d93-4dfd-924c-ef3d97b03baa"
      },
      "source": [
        "conf = entrenar(epochs, train_dataloader, val_dataloader)"
      ],
      "execution_count": 15,
      "outputs": [
        {
          "output_type": "stream",
          "text": [
            "======= Entrenando =======\n",
            "\n",
            "======= Epoch 1 / 3 =======\n",
            "Nº Batch: 0/183 | batch loss: 1.1028228998184204 | avg loss: 1.1028228998184204\n",
            "Nº Batch: 50/183 | batch loss: 0.6058868169784546 | avg loss: 0.6229513381041732\n",
            "Nº Batch: 100/183 | batch loss: 0.4175738990306854 | avg loss: 0.5674952728913563\n",
            "Nº Batch: 150/183 | batch loss: 0.5733855366706848 | avg loss: 0.5277767672838755\n",
            "\n",
            "  Average training loss: 0.52\n",
            "  Training epoch took: 0:02:09\n",
            "\n",
            "======= Validación =======\n",
            "  Accuracy: 0.85\n",
            "  Validation took: 0:00:12\n",
            "\n",
            "======= Epoch 2 / 3 =======\n",
            "Nº Batch: 0/183 | batch loss: 0.3138192594051361 | avg loss: 0.3138192594051361\n",
            "Nº Batch: 50/183 | batch loss: 0.3906358778476715 | avg loss: 0.3954590471351848\n",
            "Nº Batch: 100/183 | batch loss: 0.3065154552459717 | avg loss: 0.370406573656762\n",
            "Nº Batch: 150/183 | batch loss: 0.3565369248390198 | avg loss: 0.3432357960584148\n",
            "\n",
            "  Average training loss: 0.34\n",
            "  Training epoch took: 0:02:07\n",
            "\n",
            "======= Validación =======\n",
            "  Accuracy: 0.84\n",
            "  Validation took: 0:00:12\n",
            "\n",
            "======= Epoch 3 / 3 =======\n",
            "Nº Batch: 0/183 | batch loss: 0.2710309624671936 | avg loss: 0.2710309624671936\n",
            "Nº Batch: 50/183 | batch loss: 0.2159285992383957 | avg loss: 0.25496821923583163\n",
            "Nº Batch: 100/183 | batch loss: 0.22162330150604248 | avg loss: 0.23717187566332298\n",
            "Nº Batch: 150/183 | batch loss: 0.1998632401227951 | avg loss: 0.2189634091510678\n",
            "\n",
            "  Average training loss: 0.22\n",
            "  Training epoch took: 0:02:08\n",
            "\n",
            "======= Validación =======\n",
            "  Accuracy: 0.83\n",
            "  Validation took: 0:00:12\n",
            "\n",
            "Training complete\n"
          ],
          "name": "stdout"
        }
      ]
    },
    {
      "cell_type": "markdown",
      "metadata": {
        "id": "MBnYjb9apkig"
      },
      "source": [
        "### Generamos el cuadro de confusión"
      ]
    },
    {
      "cell_type": "code",
      "metadata": {
        "colab": {
          "base_uri": "https://localhost:8080/",
          "height": 280
        },
        "id": "L1SWk_OipQ5k",
        "outputId": "df541ba0-b869-4593-f777-4b9663c0fb79"
      },
      "source": [
        "ticks = ['Negativo', 'Neutro', 'Positivo']\n",
        "ax = sns.heatmap(conf, annot=True, xticklabels=ticks, yticklabels=ticks, cmap='YlGnBu_r')\n",
        "ax.set(xlabel='Etiqueta predicha', ylabel='Etiqueta real')\n",
        "plt.show()"
      ],
      "execution_count": 16,
      "outputs": [
        {
          "output_type": "display_data",
          "data": {
            "image/png": "[encoded data removed]",
            "text/plain": [
              "<Figure size 432x288 with 2 Axes>"
            ]
          },
          "metadata": {
            "tags": [],
            "needs_background": "light"
          }
        }
      ]
    },
    {
      "cell_type": "markdown",
      "metadata": {
        "id": "9b0ms3popy1f"
      },
      "source": [
        "La anterior figura nos permite ver que el modelo acierta en las clasificaciones extremas pero se le dificulta en las frases neutras, algo que también puede estar influido por la menor cantidad de ejemplos neutros con lo que es entrenado."
      ]
    },
    {
      "cell_type": "markdown",
      "metadata": {
        "id": "zcLEXe3hqSlN"
      },
      "source": [
        "# Resultados\n",
        "\n",
        "Para los resultados necesitamos una función que cargue el modelo, tokenice el contenido de cada twit, identifique la predicción y nos devuelva una valoración del mismo que sea útil para un promedio, siendo esta $-1$ para un twit negativo, $0$ para uno neutro y $1$ para uno positivo."
      ]
    },
    {
      "cell_type": "code",
      "metadata": {
        "id": "fAQYhLaLPY8i"
      },
      "source": [
        "from textwrap import wrap\n",
        "\n",
        "def clasificar_sentimiento(texto):\n",
        "  encoding_review = tokenizer.encode_plus(\n",
        "      texto,\n",
        "      max_length = 115,\n",
        "      truncation = True,\n",
        "      add_special_tokens = True,\n",
        "      return_token_type_ids = False,\n",
        "      padding=\"max_length\",\n",
        "      return_attention_mask = True,\n",
        "      return_tensors = 'pt'\n",
        "      )\n",
        "  \n",
        "  input_ids = encoding_review['input_ids'].to(device)\n",
        "  attention_mask = encoding_review['attention_mask'].to(device)\n",
        "  output = model(input_ids, attention_mask)\n",
        "  _, prediction = torch.max(output.logits, dim=1)\n",
        "  \n",
        "  if prediction.item() == 0:\n",
        "    return -1\n",
        "  elif prediction.item() == 1:\n",
        "    return 0\n",
        "  elif prediction.item() == 2:\n",
        "    return 1"
      ],
      "execution_count": 17,
      "outputs": []
    },
    {
      "cell_type": "markdown",
      "metadata": {
        "id": "chYczLzMukvj"
      },
      "source": [
        "Acto seguido, cargamos el conjunto de datos que tenemos que evaluar y observamos su contenido."
      ]
    },
    {
      "cell_type": "markdown",
      "metadata": {
        "id": "EAW25LwYu_0Y"
      },
      "source": [
        "A continuación, averiguamos e insertamos en el *dataframe* el sentimiento predicho a cada twit y generamos un diccionario que indique el promedio de valoración sentimental por día de cada candidato."
      ]
    },
    {
      "cell_type": "code",
      "metadata": {
        "id": "emoDwdo8PY8k",
        "colab": {
          "base_uri": "https://localhost:8080/",
          "height": 204
        },
        "outputId": "8b54b33d-4ff9-4868-e589-80a691daf164"
      },
      "source": [
        "df = pd.read_csv(PATH+\"/tweets.csv\").dropna()\n",
        "df.head(5)"
      ],
      "execution_count": 18,
      "outputs": [
        {
          "output_type": "execute_result",
          "data": {
            "text/html": [
              "<div>\n",
              "<style scoped>\n",
              "    .dataframe tbody tr th:only-of-type {\n",
              "        vertical-align: middle;\n",
              "    }\n",
              "\n",
              "    .dataframe tbody tr th {\n",
              "        vertical-align: top;\n",
              "    }\n",
              "\n",
              "    .dataframe thead th {\n",
              "        text-align: right;\n",
              "    }\n",
              "</style>\n",
              "<table border=\"1\" class=\"dataframe\">\n",
              "  <thead>\n",
              "    <tr style=\"text-align: right;\">\n",
              "      <th></th>\n",
              "      <th>Unnamed: 0</th>\n",
              "      <th>texto</th>\n",
              "      <th>fechas</th>\n",
              "      <th>candidato</th>\n",
              "      <th>nombre_lugar</th>\n",
              "    </tr>\n",
              "  </thead>\n",
              "  <tbody>\n",
              "    <tr>\n",
              "      <th>0</th>\n",
              "      <td>223</td>\n",
              "      <td>En el comité estuvimos hablando con las juvent...</td>\n",
              "      <td>17</td>\n",
              "      <td>Cosse</td>\n",
              "      <td>Montevideo, Uruguay</td>\n",
              "    </tr>\n",
              "    <tr>\n",
              "      <th>1</th>\n",
              "      <td>530</td>\n",
              "      <td>Voto a pq a me Gusta al Senado Mujer con Ovari...</td>\n",
              "      <td>17</td>\n",
              "      <td>Cosse</td>\n",
              "      <td>Montevideo, Uruguay</td>\n",
              "    </tr>\n",
              "    <tr>\n",
              "      <th>2</th>\n",
              "      <td>578</td>\n",
              "      <td>Acuérdense de ellos 👇</td>\n",
              "      <td>17</td>\n",
              "      <td>Cosse</td>\n",
              "      <td>Montevideo, Uruguay</td>\n",
              "    </tr>\n",
              "    <tr>\n",
              "      <th>3</th>\n",
              "      <td>938</td>\n",
              "      <td>Este ni sabe de lo que habla so. Todos burros</td>\n",
              "      <td>17</td>\n",
              "      <td>Cosse</td>\n",
              "      <td>Montevideo, Uruguay</td>\n",
              "    </tr>\n",
              "    <tr>\n",
              "      <th>4</th>\n",
              "      <td>945</td>\n",
              "      <td>Tara tara tara</td>\n",
              "      <td>17</td>\n",
              "      <td>Cosse</td>\n",
              "      <td>Montevideo, Uruguay</td>\n",
              "    </tr>\n",
              "  </tbody>\n",
              "</table>\n",
              "</div>"
            ],
            "text/plain": [
              "   Unnamed: 0  ...         nombre_lugar\n",
              "0         223  ...  Montevideo, Uruguay\n",
              "1         530  ...  Montevideo, Uruguay\n",
              "2         578  ...  Montevideo, Uruguay\n",
              "3         938  ...  Montevideo, Uruguay\n",
              "4         945  ...  Montevideo, Uruguay\n",
              "\n",
              "[5 rows x 5 columns]"
            ]
          },
          "metadata": {
            "tags": []
          },
          "execution_count": 18
        }
      ]
    },
    {
      "cell_type": "code",
      "metadata": {
        "id": "6y74rT9IvRYT"
      },
      "source": [
        "sentimientos = []\n",
        "\n",
        "for index, row in df.iterrows():\n",
        "    sentimientos.append(clasificar_sentimiento(row[\"texto\"]))\n",
        "\n",
        "df[\"sentimiento\"] = sentimientos\n",
        "\n",
        "candidato = {}\n",
        "for cand in df.candidato.unique():\n",
        "    cond_cand = df.candidato == cand\n",
        "    promedio_por_fecha = {}\n",
        "    for fecha in df.fechas.unique():\n",
        "        cond_fecha = df.fechas==fecha\n",
        "        promedio_por_fecha[fecha] = df[cond_fecha & cond_cand].sentimiento.mean()\n",
        "        \n",
        "    candidato[cand] = promedio_por_fecha\n",
        "\n"
      ],
      "execution_count": 19,
      "outputs": []
    },
    {
      "cell_type": "markdown",
      "metadata": {
        "id": "0HUOTPWTvW_R"
      },
      "source": [
        "# Resultados\n",
        "\n",
        "Generamos el gráfico..."
      ]
    },
    {
      "cell_type": "code",
      "metadata": {
        "colab": {
          "base_uri": "https://localhost:8080/",
          "height": 268
        },
        "id": "ARWCyIA7vVqS",
        "outputId": "aa47f166-b27a-43c6-fee2-7f2d657f67c8"
      },
      "source": [
        "color_cand = {\n",
        "    \"Cosse\":\"Blue\",\n",
        "    \"Raffo\": \"Green\",\n",
        "    \"Villar\": \"Red\"\n",
        "    }\n",
        "    \n",
        "for cand in df.candidato.unique():\n",
        "    sns.lineplot(x=candidato.get(cand).keys(),\n",
        "                 y=candidato.get(cand).values(),\n",
        "                 color=color_cand[cand],\n",
        "                 label=cand)"
      ],
      "execution_count": 20,
      "outputs": [
        {
          "output_type": "display_data",
          "data": {
            "image/png": "[encoded data removed]",
            "text/plain": [
              "<Figure size 432x288 with 1 Axes>"
            ]
          },
          "metadata": {
            "tags": [],
            "needs_background": "light"
          }
        }
      ]
    },
    {
      "cell_type": "markdown",
      "metadata": {
        "id": "myb4tsaYqqeY"
      },
      "source": [
        "Lo que se puede observar en el anterior gráfico es que, si bien existen distintas fluctuaciones, la candidata Carolina Cosse es quien presenta las mayores referencias negativas en Twitter para el período considerado y con las restricciones de datos que se trabajó. Levemente mejor se encontró el candidato Álvaro Villar, que presenta una notable caída hacia (y sobretodo luego) del acto eleccionario. Quién se mantiene estable antes y después de las elecciones fue Laura Raffo, candidata que parecería haber tenido algún shock negativo en su campaña alrededor del día 20 pero que luego se fue recuperando."
      ]
    },
    {
      "cell_type": "markdown",
      "metadata": {
        "id": "kK3hGSk-rfWU"
      },
      "source": [
        "# Conclusiones\n",
        "\n",
        "Independientemente de los resultados obtenidos, se intentó poner en práctica un modelo BERT en español aplicado al caso político uruguayo. Los resultados no aparentan ser tan descabellados teniendo en cuenta que se consideraron datos a nivel nacional y que la marca *Frente Amplio* pareció tener una caída en su popularidad en el último período electoral, hecho que puede haber influenciado que sus candidatos fueran *peor vistos* por el *twittero promedio*.\n",
        "\n",
        "Sin embargo, algunas mejoras pueden ser introducidas. En particular, la mayor debilidad del trabajo hecho es que los datos de entrenamiento son de productos de consumo (*apps*) y lo que se busca predecir son elecciones políticas. Desarrollar un conjunto de datos propio de esta área y explotar otros sentimientos menos generales que los usados en este trabajo, son posibles con modelos como BERT.\n",
        "\n",
        "Pese a las debilidades, la evaluación de campañas utilizando inteligencia artificial y *big data* es una técnica muy reciente y de la que se escuchará durante toda la presente década. Se espera que este trabajo sea un buen ejemplo de lo que son capaces estas herramientas."
      ]
    },
    {
      "cell_type": "markdown",
      "metadata": {
        "id": "hUZf6NaJPY8J"
      },
      "source": [
        "--------------------------------------------------------------------------------"
      ]
    }
  ]
}